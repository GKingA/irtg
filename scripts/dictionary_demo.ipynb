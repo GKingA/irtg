{
 "cells": [
  {
   "cell_type": "code",
   "execution_count": 1,
   "metadata": {},
   "outputs": [],
   "source": [
    "import sys\n",
    "import json"
   ]
  },
  {
   "cell_type": "code",
   "execution_count": 23,
   "metadata": {},
   "outputs": [],
   "source": [
    "words_to_id = {}\n",
    "id_to_definitions = {}\n",
    "id_to_ud = {}\n",
    "id_to_graph = {}\n",
    "with open(\"words_to_id.json\", \"r+\") as i:\n",
    "    words_to_id = json.loads(i.read())\n",
    "with open(\"id_to_definitions.json\", \"r+\") as i:\n",
    "    id_to_definitions = json.loads(i.read())\n",
    "with open(\"id_to_ud.json\", \"r+\") as i:\n",
    "    id_to_ud = json.loads(i.read())\n",
    "with open(\"id_to_graph.json\", \"r+\") as i:\n",
    "    id_to_graph = json.loads(i.read())"
   ]
  },
  {
   "cell_type": "code",
   "execution_count": 26,
   "metadata": {},
   "outputs": [],
   "source": [
    "words_to_id = {str(k):int(v) for k,v in words_to_id.items()}\n",
    "id_to_definitions = {int(k):v.encode('utf-8') for k,v in id_to_definitions.items()}\n",
    "id_to_ud = {int(k):v.encode('utf-8') for k,v in id_to_ud.items()}\n",
    "id_to_graph = {int(k):v.encode('utf-8') for k,v in id_to_graph.items()}"
   ]
  },
  {
   "cell_type": "code",
   "execution_count": 27,
   "metadata": {},
   "outputs": [],
   "source": [
    "ind = words_to_id[\"dog\"]"
   ]
  },
  {
   "cell_type": "code",
   "execution_count": 28,
   "metadata": {},
   "outputs": [
    {
     "data": {
      "text/plain": [
       "'a common animal with four legs, fur, and a tail. Dogs are kept as pets or trained to guard places, find drugs etc'"
      ]
     },
     "execution_count": 28,
     "metadata": {},
     "output_type": "execute_result"
    }
   ],
   "source": [
    "id_to_definitions[ind]"
   ]
  },
  {
   "cell_type": "code",
   "execution_count": 30,
   "metadata": {},
   "outputs": [
    {
     "name": "stdout",
     "output_type": "stream",
     "text": [
      "1\ta\ta\tDET\tDT\t_\t3\tdet\t_\t_\n",
      "2\tcommon\tcommon\tADJ\tJJ\t_\t3\tamod\t_\t_\n",
      "3\tanimal\tanimal\tNOUN\tNN\t_\t0\troot\t_\t_\n",
      "4\twith\twith\tADP\tIN\t_\t6\tcase\t_\t_\n",
      "5\tfour\tfour\tNUM\tCD\t_\t6\tnummod\t_\t_\n",
      "6\tlegs\tleg\tNOUN\tNNS\t_\t3\tnmod\t_\t_\n",
      "7\t,\t,\tPUNCT\t,\t_\t8\tpunct\t_\t_\n",
      "8\tfur\tfur\tNOUN\tNN\t_\t6\tconj\t_\t_\n",
      "9\t,\t,\tPUNCT\t,\t_\t12\tpunct\t_\t_\n",
      "10\tand\tand\tCCONJ\tCC\t_\t12\tcc\t_\t_\n",
      "11\ta\ta\tDET\tDT\t_\t12\tdet\t_\t_\n",
      "12\ttail\ttail\tNOUN\tNN\t_\t6\tconj\t_\t_\n",
      "13\t.\t.\tPUNCT\t.\t_\t3\tpunct\t_\t_\n",
      "\n"
     ]
    }
   ],
   "source": [
    "print(id_to_ud[ind])"
   ]
  },
  {
   "cell_type": "code",
   "execution_count": 31,
   "metadata": {},
   "outputs": [
    {
     "name": "stdout",
     "output_type": "stream",
     "text": [
      "# IRTG unannotated corpus file, v1.0\n",
      "# interpretation graph: de.up.ling.irtg.algebra.graph.GraphAlgebra\n",
      "(ROOT_0 / ROOT :root (animal_3 / animal :nmod (legs_6 / legs :case (with_4 / with) :conj (fur_8 / fur :punct (COMMA_7 / COMMA)) :conj (tail_12 / tail :cc (and_10 / and) :det (a_11 / a) :punct (COMMA_9 / COMMA)) :nummod (four_5 / four)) :det (a_1 / a) :punct (PERIOD_13 / PERIOD) :amod (common_2 / common)))\n"
     ]
    }
   ],
   "source": [
    "print(id_to_graph[ind])"
   ]
  },
  {
   "cell_type": "code",
   "execution_count": null,
   "metadata": {},
   "outputs": [],
   "source": []
  }
 ],
 "metadata": {
  "kernelspec": {
   "display_name": "Python 2",
   "language": "python",
   "name": "python2"
  },
  "language_info": {
   "codemirror_mode": {
    "name": "ipython",
    "version": 2
   },
   "file_extension": ".py",
   "mimetype": "text/x-python",
   "name": "python",
   "nbconvert_exporter": "python",
   "pygments_lexer": "ipython2",
   "version": "2.7.6"
  }
 },
 "nbformat": 4,
 "nbformat_minor": 2
}
