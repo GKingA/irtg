{
 "cells": [
  {
   "cell_type": "code",
   "execution_count": 12,
   "metadata": {},
   "outputs": [],
   "source": [
    "import json\n",
    "import sys"
   ]
  },
  {
   "cell_type": "code",
   "execution_count": 10,
   "metadata": {},
   "outputs": [],
   "source": [
    "rel_graphs = {}\n",
    "with open(\"relevant_graphs.txt\", \"r\") as f:\n",
    "    cnt = 0\n",
    "    ln = 0\n",
    "    for line in f:\n",
    "        if ln > 1:\n",
    "            rel_graphs[cnt] = line.strip()\n",
    "            cnt = cnt+1\n",
    "        ln = ln+1"
   ]
  },
  {
   "cell_type": "code",
   "execution_count": 11,
   "metadata": {},
   "outputs": [
    {
     "data": {
      "text/plain": [
       "'(ROOT_0 / ROOT :root (mark_3 / mark :det (the_1 / the) :amod (highest_2 / highest) :dep (get_8 / get :aux (can_7 / can) :prep (in_9 / in :conj (for_13 / for :pobj (piece_15 / piece :det (a_14 / a) :prep (of_16 / of :pobj (work_17 / work))) :cc (or_12 / or)) :pobj (examination_11 / examination :det (an_10 / an))) :mark (that_4 / that) :nsubj (student_6 / student :det (a_5 / a)))))'"
      ]
     },
     "execution_count": 11,
     "metadata": {},
     "output_type": "execute_result"
    }
   ],
   "source": [
    "rel_graphs[1]"
   ]
  },
  {
   "cell_type": "code",
   "execution_count": 14,
   "metadata": {},
   "outputs": [],
   "source": [
    "with open(\"dictionary.json\", \"r\") as d:\n",
    "    with open(\"dictionary_relevant.json\", \"w+\") as w:\n",
    "        for line in d:\n",
    "            l = json.loads(line.strip())\n",
    "            if l[\"graph\"].strip() in rel_graphs.values():\n",
    "                w.write(line)\n",
    "        "
   ]
  },
  {
   "cell_type": "code",
   "execution_count": null,
   "metadata": {},
   "outputs": [],
   "source": []
  }
 ],
 "metadata": {
  "kernelspec": {
   "display_name": "Python 3",
   "language": "python",
   "name": "python3"
  },
  "language_info": {
   "codemirror_mode": {
    "name": "ipython",
    "version": 3
   },
   "file_extension": ".py",
   "mimetype": "text/x-python",
   "name": "python",
   "nbconvert_exporter": "python",
   "pygments_lexer": "ipython3",
   "version": "3.6.4"
  }
 },
 "nbformat": 4,
 "nbformat_minor": 2
}
