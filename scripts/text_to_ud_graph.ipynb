{
 "cells": [
  {
   "cell_type": "code",
   "execution_count": 27,
   "metadata": {},
   "outputs": [],
   "source": [
    "import sys\n",
    "import json\n",
    "import requests"
   ]
  },
  {
   "cell_type": "code",
   "execution_count": 68,
   "metadata": {},
   "outputs": [],
   "source": [
    "data = {'word':   'dog'}\n",
    "data_json = json.dumps(data)\n",
    "payload = {'json_payload': data_json}\n",
    "headers = {'Content-type': 'application/json', 'Accept': 'text/plain'}\n",
    "r = requests.post(\"http://hlt.bme.hu/4lang/longmandefinition\", data=data_json, headers=headers)\n"
   ]
  },
  {
   "cell_type": "code",
   "execution_count": 71,
   "metadata": {},
   "outputs": [
    {
     "name": "stdout",
     "output_type": "stream",
     "text": [
      "definition: a common animal with four legs, fur, and a tail. Dogs are kept as pets or trained to guard places, find drugs etc\n",
      "\n",
      "pos tag: n\n",
      "\n",
      "\n",
      "\n",
      "definition: a male dog, fox , or wolf\n",
      "\n",
      "pos tag: n\n",
      "\n",
      "\n",
      "\n",
      "definition: an offensive word meaning an unattractive woman\n",
      "\n",
      "pos tag: n\n",
      "\n",
      "\n",
      "\n",
      "definition: when people compete against each other and will do anything to get what they want\n",
      "\n",
      "pos tag: n\n",
      "\n",
      "\n",
      "\n",
      "definition: if a country or organization is going to the dogs, it is getting worse and will be difficult to improve\n",
      "\n",
      "pos tag: n\n",
      "\n",
      "\n",
      "\n",
      "definition: an offensive word for an unpleasant or dishonest man\n",
      "\n",
      "pos tag: n\n",
      "\n",
      "\n",
      "\n",
      "definition: a life that is difficult and unpleasant, with very little pleasure\n",
      "\n",
      "pos tag: n\n",
      "\n",
      "\n",
      "\n",
      "definition: to do something very badly\n",
      "\n",
      "pos tag: n\n",
      "\n",
      "\n",
      "\n",
      "definition: something that is meant to be impressive or fashionable but that other people think is not\n",
      "\n",
      "pos tag: n\n",
      "\n",
      "\n",
      "\n",
      "definition: to have no chance of being successful\n",
      "\n",
      "pos tag: n\n",
      "\n",
      "\n",
      "\n",
      "definition: used to say that even the most unimportant person has a time in their life when they are successful and important\n",
      "\n",
      "pos tag: n\n",
      "\n",
      "\n",
      "\n",
      "definition: very pleased and happy because something good has happened\n",
      "\n",
      "pos tag: n\n",
      "\n",
      "\n",
      "\n",
      "definition: feet\n",
      "\n",
      "pos tag: n\n",
      "\n",
      "\n",
      "\n",
      "definition: something that is of very poor quality\n",
      "\n",
      "pos tag: n\n",
      "\n",
      "\n",
      "\n",
      "definition: an event that has only been organized so that people can admire it and think that it is impressive, not for any real purpose\n",
      "\n",
      "pos tag: n\n",
      "\n",
      "\n",
      "\n",
      "definition: a very rude expression used to say that something is very good\n",
      "\n",
      "pos tag: n\n",
      "\n",
      "\n",
      "\n",
      "definition: a sports event consisting of a series of races for dogs\n",
      "\n",
      "pos tag: n\n",
      "\n",
      "\n",
      "\n",
      "definition: to pretend to be richer, more clever etc than you really are\n",
      "\n",
      "pos tag: n\n",
      "\n",
      "\n",
      "\n"
     ]
    }
   ],
   "source": [
    "for i in r.json()['dog']:\n",
    "    print('definition: ' + i[0] + '\\n')\n",
    "    print('pos tag: ' + i[1] + '\\n')\n",
    "    print('\\n')"
   ]
  },
  {
   "cell_type": "code",
   "execution_count": 72,
   "metadata": {},
   "outputs": [],
   "source": [
    "data = {'sentence':   'a male parent'}\n",
    "data_json = json.dumps(data)\n",
    "payload = {'json_payload': data_json}\n",
    "headers = {'Content-type': 'application/json', 'Accept': 'text/plain'}\n",
    "r = requests.post(\"http://hlt.bme.hu/4lang/udgraph\", data=data_json, headers=headers)"
   ]
  },
  {
   "cell_type": "code",
   "execution_count": 73,
   "metadata": {},
   "outputs": [
    {
     "name": "stdout",
     "output_type": "stream",
     "text": [
      "# IRTG unannotated corpus file, v1.0\n",
      "# interpretation graph: de.up.ling.irtg.algebra.graph.GraphAlgebra\n",
      "(ROOT_0 / ROOT :root (parent_3 / parent :det (a_1 / a) :compound (male_2 / male)))\n"
     ]
    }
   ],
   "source": [
    "print(r.json()['graph'])"
   ]
  },
  {
   "cell_type": "code",
   "execution_count": null,
   "metadata": {},
   "outputs": [],
   "source": []
  }
 ],
 "metadata": {
  "kernelspec": {
   "display_name": "Python 2",
   "language": "python",
   "name": "python2"
  },
  "language_info": {
   "codemirror_mode": {
    "name": "ipython",
    "version": 2
   },
   "file_extension": ".py",
   "mimetype": "text/x-python",
   "name": "python",
   "nbconvert_exporter": "python",
   "pygments_lexer": "ipython2",
   "version": "2.7.6"
  }
 },
 "nbformat": 4,
 "nbformat_minor": 2
}
